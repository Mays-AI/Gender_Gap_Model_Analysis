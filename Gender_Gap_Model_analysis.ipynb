{
 "cells": [
  {
   "cell_type": "markdown",
   "id": "aac7f50d",
   "metadata": {},
   "source": [
    "Gender Gap Anaysis: create a model to explain the gender gap? Use only netincome (netto), female (frau), age (alter), hours worked (arbeitsstd). Interpret the results."
   ]
  },
  {
   "cell_type": "code",
   "execution_count": 1,
   "id": "00ce7717",
   "metadata": {},
   "outputs": [],
   "source": [
    "import numpy as np\n",
    "import pandas as pd\n",
    "import matplotlib.pyplot as plt"
   ]
  },
  {
   "cell_type": "code",
   "execution_count": 2,
   "id": "73deafdf",
   "metadata": {},
   "outputs": [],
   "source": [
    "data = pd.read_csv('/Users/alrebd01/Downloads/umfragedaten.csv')"
   ]
  },
  {
   "cell_type": "code",
   "execution_count": 3,
   "id": "daa499fc",
   "metadata": {},
   "outputs": [
    {
     "name": "stdout",
     "output_type": "stream",
     "text": [
      "     id  gebjahr          berufstaetig  arbeitsstd  arztbes rauch    gro  \\\n",
      "0  1359   1967.0   NICHT ERWERBSTAETIG         NaN      1.0    ja  162.0   \n",
      "1  2455   1964.0  HAUPTBERUFL.HALBTAGS        30.0      1.0  nein  165.0   \n",
      "2   200   1980.0   NICHT ERWERBSTAETIG         NaN      3.0  nein  166.0   \n",
      "3  1280   1968.0  HAUPTBERUFL.GANZTAGS        50.0      0.0  nein  180.0   \n",
      "4  2384   1995.0   NICHT ERWERBSTAETIG         NaN      1.0  nein  161.0   \n",
      "\n",
      "    gew      schulabschluss    schulabschluss_v    schulabschluss_m  \\\n",
      "0  79.0      MITTLERE REIFE      MITTLERE REIFE      HOCHSCHULREIFE   \n",
      "1  59.0      MITTLERE REIFE  VOLKS-,HAUPTSCHULE  VOLKS-,HAUPTSCHULE   \n",
      "2  86.0      HOCHSCHULREIFE      HOCHSCHULREIFE      HOCHSCHULREIFE   \n",
      "3  95.0  FACHHOCHSCHULREIFE      MITTLERE REIFE      MITTLERE REIFE   \n",
      "4  46.0       NOCH SCHUELER      MITTLERE REIFE  VOLKS-,HAUPTSCHULE   \n",
      "\n",
      "          hoe_abschluss       hoe_abschluss_v       hoe_abschluss_m  netto  \\\n",
      "0                 LEHRE  GEWERBL.,LANDW.LEHRE    MEISTER, TECHNIKER  475.0   \n",
      "1                 LEHRE    MEISTER, TECHNIKER  KAUFMAENNISCHE LEHRE  780.0   \n",
      "2    HOCHSCHULABSCHLUSS    HOCHSCHULABSCHLUSS    HOCHSCHULABSCHLUSS    NaN   \n",
      "3  FACHHOCHSCHULABSCHL.  KAUFMAENNISCHE LEHRE  KAUFMAENNISCHE LEHRE    NaN   \n",
      "4         NOCH SCHUELER  GEWERBL.,LANDW.LEHRE  GEWERBL.,LANDW.LEHRE    NaN   \n",
      "\n",
      "   zufr  alter      frau  \n",
      "0  10.0   47.0  weiblich  \n",
      "1   9.0   50.0  weiblich  \n",
      "2   8.0   34.0  männlich  \n",
      "3   8.0   46.0  männlich  \n",
      "4   7.0   19.0  weiblich  \n"
     ]
    }
   ],
   "source": [
    "print(data.head())"
   ]
  },
  {
   "cell_type": "code",
   "execution_count": 4,
   "id": "fef06557",
   "metadata": {},
   "outputs": [
    {
     "name": "stdout",
     "output_type": "stream",
     "text": [
      "Average Net Income: 1569.513065881487\n"
     ]
    }
   ],
   "source": [
    "#Q2\n",
    "# Calculate the average net income\n",
    "average_net_income = data[\"netto\"].mean()\n",
    "\n",
    "print(\"Average Net Income:\", average_net_income)"
   ]
  },
  {
   "cell_type": "code",
   "execution_count": 5,
   "id": "b81bc096",
   "metadata": {},
   "outputs": [
    {
     "data": {
      "image/png": "[encoded data removed]",
      "text/plain": [
       "<Figure size 720x432 with 1 Axes>"
      ]
     },
     "metadata": {
      "needs_background": "light"
     },
     "output_type": "display_data"
    }
   ],
   "source": [
    "#Q3\n",
    "plt.figure(figsize=(10, 6))\n",
    "plt.hist(data['netto'], bins=20, edgecolor='black', alpha=0.7)\n",
    "plt.title('Distribution of Net Income')\n",
    "plt.xlabel('Net Income')\n",
    "plt.ylabel('Frequency')\n",
    "plt.show()"
   ]
  },
  {
   "cell_type": "code",
   "execution_count": 6,
   "id": "67e4200b",
   "metadata": {},
   "outputs": [
    {
     "name": "stdout",
     "output_type": "stream",
     "text": [
      "Mean Net Income for Men: 1908.21, Standard Deviation: 2495.16\n",
      "Mean Net Income for Women: 1195.95, Standard Deviation: 793.59\n"
     ]
    }
   ],
   "source": [
    "#Q4\n",
    "\n",
    "# Filter data for men and women and here the gender column named frau:\n",
    "men_data = data[data['frau'] == 'männlich']\n",
    "women_data = data[data['frau'] == 'weiblich']\n",
    "\n",
    "# Calculate mean and standard deviation for net income for men and women\n",
    "mean_net_income_men = men_data['netto'].mean()\n",
    "std_dev_men = men_data['netto'].std()\n",
    "\n",
    "mean_net_income_women = women_data['netto'].mean()\n",
    "std_dev_women = women_data['netto'].std()\n",
    "\n",
    "print(f\"Mean Net Income for Men: {mean_net_income_men:.2f}, Standard Deviation: {std_dev_men:.2f}\")\n",
    "print(f\"Mean Net Income for Women: {mean_net_income_women:.2f}, Standard Deviation: {std_dev_women:.2f}\")\n",
    "\n",
    "\n"
   ]
  },
  {
   "cell_type": "markdown",
   "id": "09e0f7eb",
   "metadata": {},
   "source": [
    "Men earn more compared to women, as the mean net income for Men (1908.21) is higher than the mean net income for Women (1195.95) "
   ]
  },
  {
   "cell_type": "markdown",
   "id": "dc5e0554",
   "metadata": {},
   "source": [
    "Q5. To determine if there is a connection between age and net income, we can perform a correlation analysis between these two variables:"
   ]
  },
  {
   "cell_type": "code",
   "execution_count": 7,
   "id": "14549578",
   "metadata": {},
   "outputs": [
    {
     "name": "stdout",
     "output_type": "stream",
     "text": [
      "Correlation between Age and Net Income: -0.02\n"
     ]
    }
   ],
   "source": [
    "correlation = data['alter'].corr(data['netto'])\n",
    "\n",
    "print(f\"Correlation between Age and Net Income: {correlation:.2f}\")"
   ]
  },
  {
   "cell_type": "markdown",
   "id": "74ecd050",
   "metadata": {},
   "source": [
    "The correlation between age and Net Income is weak negative correlation and this means that the change in age does not predict a significant change in net income."
   ]
  },
  {
   "cell_type": "code",
   "execution_count": 8,
   "id": "1abe9cc0",
   "metadata": {},
   "outputs": [
    {
     "name": "stdout",
     "output_type": "stream",
     "text": [
      "Requirement already satisfied: statsmodels in /Users/alrebd01/miniforge3/envs/ml1/lib/python3.8/site-packages (0.14.0)\n",
      "Requirement already satisfied: numpy>=1.18 in /Users/alrebd01/miniforge3/envs/ml1/lib/python3.8/site-packages (from statsmodels) (1.22.3)\n",
      "Requirement already satisfied: scipy!=1.9.2,>=1.4 in /Users/alrebd01/miniforge3/envs/ml1/lib/python3.8/site-packages (from statsmodels) (1.7.1)\n",
      "Requirement already satisfied: pandas>=1.0 in /Users/alrebd01/miniforge3/envs/ml1/lib/python3.8/site-packages (from statsmodels) (1.3.5)\n",
      "Requirement already satisfied: patsy>=0.5.2 in /Users/alrebd01/miniforge3/envs/ml1/lib/python3.8/site-packages (from statsmodels) (0.5.3)\n",
      "Requirement already satisfied: packaging>=21.3 in /Users/alrebd01/miniforge3/envs/ml1/lib/python3.8/site-packages (from statsmodels) (21.3)\n",
      "Requirement already satisfied: pyparsing!=3.0.5,>=2.0.2 in /Users/alrebd01/miniforge3/envs/ml1/lib/python3.8/site-packages (from packaging>=21.3->statsmodels) (3.0.4)\n",
      "Requirement already satisfied: python-dateutil>=2.7.3 in /Users/alrebd01/miniforge3/envs/ml1/lib/python3.8/site-packages (from pandas>=1.0->statsmodels) (2.8.1)\n",
      "Requirement already satisfied: pytz>=2017.3 in /Users/alrebd01/miniforge3/envs/ml1/lib/python3.8/site-packages (from pandas>=1.0->statsmodels) (2019.3)\n",
      "Requirement already satisfied: six in /Users/alrebd01/miniforge3/envs/ml1/lib/python3.8/site-packages (from patsy>=0.5.2->statsmodels) (1.15.0)\n",
      "\n",
      "\u001b[1m[\u001b[0m\u001b[34;49mnotice\u001b[0m\u001b[1;39;49m]\u001b[0m\u001b[39;49m A new release of pip is available: \u001b[0m\u001b[31;49m23.3.1\u001b[0m\u001b[39;49m -> \u001b[0m\u001b[32;49m24.0\u001b[0m\n",
      "\u001b[1m[\u001b[0m\u001b[34;49mnotice\u001b[0m\u001b[1;39;49m]\u001b[0m\u001b[39;49m To update, run: \u001b[0m\u001b[32;49mpip install --upgrade pip\u001b[0m\n",
      "Note: you may need to restart the kernel to use updated packages.\n"
     ]
    }
   ],
   "source": [
    "pip install statsmodels"
   ]
  },
  {
   "cell_type": "code",
   "execution_count": 9,
   "id": "0032873c",
   "metadata": {},
   "outputs": [
    {
     "name": "stdout",
     "output_type": "stream",
     "text": [
      "Index(['id', 'gebjahr', 'berufstaetig', 'arbeitsstd', 'arztbes', 'rauch',\n",
      "       'gro', 'gew', 'schulabschluss', 'schulabschluss_v', 'schulabschluss_m',\n",
      "       'hoe_abschluss', 'hoe_abschluss_v', 'hoe_abschluss_m', 'netto', 'zufr',\n",
      "       'alter', 'frau'],\n",
      "      dtype='object')\n"
     ]
    }
   ],
   "source": [
    "print(data.columns)"
   ]
  },
  {
   "cell_type": "code",
   "execution_count": 10,
   "id": "49d8802f",
   "metadata": {},
   "outputs": [
    {
     "name": "stdout",
     "output_type": "stream",
     "text": [
      "id                    int64\n",
      "gebjahr             float64\n",
      "berufstaetig         object\n",
      "arbeitsstd          float64\n",
      "arztbes             float64\n",
      "rauch                object\n",
      "gro                 float64\n",
      "gew                 float64\n",
      "schulabschluss       object\n",
      "schulabschluss_v     object\n",
      "schulabschluss_m     object\n",
      "hoe_abschluss        object\n",
      "hoe_abschluss_v      object\n",
      "hoe_abschluss_m      object\n",
      "netto               float64\n",
      "zufr                float64\n",
      "alter               float64\n",
      "frau                 object\n",
      "dtype: object\n"
     ]
    }
   ],
   "source": [
    "# Display data types of all columns\n",
    "print(data.dtypes)"
   ]
  },
  {
   "cell_type": "code",
   "execution_count": 27,
   "id": "da04f376",
   "metadata": {},
   "outputs": [
    {
     "name": "stdout",
     "output_type": "stream",
     "text": [
      "Index(['id', 'gebjahr', 'berufstaetig', 'arbeitsstd', 'arztbes', 'rauch',\n",
      "       'gro', 'gew', 'schulabschluss_v', 'schulabschluss_m', 'hoe_abschluss',\n",
      "       'hoe_abschluss_v', 'hoe_abschluss_m', 'netto', 'zufr', 'alter',\n",
      "       'schulabschluss_FACHHOCHSCHULREIFE', 'schulabschluss_HOCHSCHULREIFE',\n",
      "       'schulabschluss_MITTLERE REIFE', 'schulabschluss_NOCH SCHUELER',\n",
      "       'schulabschluss_OHNE ABSCHLUSS', 'schulabschluss_VOLKS-,HAUPTSCHULE',\n",
      "       'frau_weiblich'],\n",
      "      dtype='object')\n"
     ]
    }
   ],
   "source": [
    "print(data.columns)\n"
   ]
  },
  {
   "cell_type": "code",
   "execution_count": 29,
   "id": "d50f62ed",
   "metadata": {},
   "outputs": [
    {
     "name": "stdout",
     "output_type": "stream",
     "text": [
      "Number of rows after dropping missing values: 1557\n",
      "Optimization terminated successfully.\n",
      "         Current function value: inf\n",
      "         Iterations 6\n",
      "                           Logit Regression Results                           \n",
      "==============================================================================\n",
      "Dep. Variable:          frau_weiblich   No. Observations:                 1557\n",
      "Model:                          Logit   Df Residuals:                     1553\n",
      "Method:                           MLE   Df Model:                            3\n",
      "Date:                Wed, 19 Jun 2024   Pseudo R-squ.:                     inf\n",
      "Time:                        19:09:39   Log-Likelihood:                   -inf\n",
      "converged:                       True   LL-Null:                        0.0000\n",
      "Covariance Type:            nonrobust   LLR p-value:                     1.000\n",
      "==============================================================================\n",
      "                 coef    std err          z      P>|z|      [0.025      0.975]\n",
      "------------------------------------------------------------------------------\n",
      "const          3.6792      0.344     10.687      0.000       3.004       4.354\n",
      "netto         -0.0004   6.83e-05     -6.054      0.000      -0.001      -0.000\n",
      "alter          0.0040      0.005      0.873      0.383      -0.005       0.013\n",
      "arbeitsstd    -0.0882      0.007    -12.656      0.000      -0.102      -0.075\n",
      "==============================================================================\n"
     ]
    },
    {
     "name": "stderr",
     "output_type": "stream",
     "text": [
      "/Users/alrebd01/miniforge3/envs/ml1/lib/python3.8/site-packages/statsmodels/discrete/discrete_model.py:2383: RuntimeWarning: overflow encountered in exp\n",
      "  return 1/(1+np.exp(-X))\n",
      "/Users/alrebd01/miniforge3/envs/ml1/lib/python3.8/site-packages/statsmodels/discrete/discrete_model.py:2441: RuntimeWarning: divide by zero encountered in log\n",
      "  return np.sum(np.log(self.cdf(q * linpred)))\n",
      "/Users/alrebd01/miniforge3/envs/ml1/lib/python3.8/site-packages/statsmodels/base/model.py:595: HessianInversionWarning: Inverting hessian failed, no bse or cov_params available\n",
      "  warnings.warn('Inverting hessian failed, no bse or cov_params '\n",
      "/Users/alrebd01/miniforge3/envs/ml1/lib/python3.8/site-packages/statsmodels/base/model.py:595: HessianInversionWarning: Inverting hessian failed, no bse or cov_params available\n",
      "  warnings.warn('Inverting hessian failed, no bse or cov_params '\n"
     ]
    }
   ],
   "source": [
    "import pandas as pd\n",
    "import statsmodels.api as sm\n",
    "import numpy as np\n",
    "\n",
    "# Load the data\n",
    "data = pd.read_csv('/Users/alrebd01/Downloads/umfragedaten.csv')\n",
    "\n",
    "# Convert categorical features to one-hot encoding if needed\n",
    "data = pd.get_dummies(data, columns=['schulabschluss', 'frau'], drop_first=True)\n",
    "\n",
    "# Define the features and target variable\n",
    "X = data[['netto', 'alter', 'arbeitsstd']]\n",
    "y = data['frau_weiblich']\n",
    "\n",
    "# Convert X to numeric\n",
    "X = X.apply(pd.to_numeric, errors='coerce')\n",
    "\n",
    "# Convert y to numeric (assuming frau_weiblich is binary)\n",
    "y = pd.to_numeric(y, errors='coerce')\n",
    "\n",
    "# Drop rows with missing values in X or y\n",
    "missing_index = X[X.isnull().any(axis=1) | y.isnull()].index\n",
    "X = X.drop(index=missing_index)\n",
    "y = y.drop(index=missing_index)\n",
    "\n",
    "# Check the number of rows after dropping missing values\n",
    "print(\"Number of rows after dropping missing values:\", len(X))\n",
    "\n",
    "# Add a constant to the features\n",
    "X = sm.add_constant(X)\n",
    "\n",
    "# Create and fit the logistic regression model\n",
    "try:\n",
    "    model = sm.Logit(y, X).fit()\n",
    "    print(model.summary())\n",
    "except Exception as e:\n",
    "    print(\"Error:\", e)\n"
   ]
  },
  {
   "cell_type": "markdown",
   "id": "087b2cf6",
   "metadata": {},
   "source": [
    "- Logit was chosen for your analysis because it is specifically designed for binary logistic regression tasks, offering interpretability, robust statistical inference, and tools for model evaluation—all essential for understanding the relationships between predictors (net income, age, hours worked, etc.) and the likelihood of being female in your dataset.\n",
    "\n",
    "- Net Income (netto): Higher net income is associated with a slight decrease in the likelihood of being female (frau_weiblich).\n",
    "\n",
    "- Age (alter): Age does not have a significant effect on the likelihood of being female (frau_weiblich).\n",
    "\n",
    "- Hours Worked (arbeitsstd): More hours worked is linked to a lower likelihood of being female (frau_weiblich).\n",
    "\n",
    "- Model Fit: The model has successfully converged (converged: True), indicating a good fit to the data."
   ]
  },
  {
   "cell_type": "code",
   "execution_count": null,
   "id": "23e5ec98",
   "metadata": {},
   "outputs": [],
   "source": []
  }
 ],
 "metadata": {
  "kernelspec": {
   "display_name": "Python 3 (ipykernel)",
   "language": "python",
   "name": "python3"
  },
  "language_info": {
   "codemirror_mode": {
    "name": "ipython",
    "version": 3
   },
   "file_extension": ".py",
   "mimetype": "text/x-python",
   "name": "python",
   "nbconvert_exporter": "python",
   "pygments_lexer": "ipython3",
   "version": "3.8.11"
  }
 },
 "nbformat": 4,
 "nbformat_minor": 5
}
